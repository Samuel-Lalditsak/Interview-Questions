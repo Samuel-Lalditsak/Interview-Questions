{
 "cells": [
  {
   "cell_type": "markdown",
   "metadata": {},
   "source": [
    "## 20 interview questions for Data Types, Operators, Conditional Statements, Looping Statements, Functions."
   ]
  },
  {
   "cell_type": "markdown",
   "metadata": {},
   "source": [
    "### Data Types:\n",
    "Explain the difference between mutable and immutable data types.\n",
    "\n",
    "Demonstrate how to create a list, tuple, and dictionary.\n",
    "\n",
    "### Operators:\n",
    "List the different types of operators in Python.\n",
    "\n",
    "Differentiate between the == and is operators.\n",
    "\n",
    "### Conditional Statements:\n",
    "Explain the syntax and usage of the if, elif, and else statements.\n",
    "\n",
    "How can you create nested conditional statements?\n",
    " \n",
    "### Looping Statements:\n",
    "Describe the for and while loops in Python.\n",
    "\n",
    "Explain how to skip an iteration within a loop.\n",
    "\n",
    "### Functions:\n",
    "Define a function with parameters and a return value.\n",
    "\n",
    "Explain the concept of function scope."
   ]
  }
 ],
 "metadata": {
  "language_info": {
   "name": "python"
  },
  "orig_nbformat": 4
 },
 "nbformat": 4,
 "nbformat_minor": 2
}
